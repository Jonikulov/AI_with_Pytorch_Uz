{
 "cells": [
  {
   "cell_type": "code",
   "execution_count": 11,
   "metadata": {},
   "outputs": [],
   "source": [
    "import tensorflow as tf\n",
    "from tensorflow import keras\n",
    "import numpy as np\n",
    "import matplotlib.pyplot as plt\n",
    "\n"
   ]
  },
  {
   "cell_type": "code",
   "execution_count": 18,
   "metadata": {},
   "outputs": [],
   "source": [
    "mnist=keras.datasets.mnist\n"
   ]
  },
  {
   "cell_type": "code",
   "execution_count": 19,
   "metadata": {},
   "outputs": [
    {
     "name": "stdout",
     "output_type": "stream",
     "text": [
      "(60000, 28, 28) (60000,)\n"
     ]
    }
   ],
   "source": [
    "(x_train,y_train),(x_test, y_test)=mnist.load_data()\n",
    "print(x_train.shape, y_train.shape)"
   ]
  },
  {
   "cell_type": "code",
   "execution_count": 20,
   "metadata": {},
   "outputs": [],
   "source": [
    "#normalize data 0,255 -> 0,1\n",
    "x_train, x_test=x_train/255.0, x_test/255.0"
   ]
  },
  {
   "cell_type": "code",
   "execution_count": 60,
   "metadata": {},
   "outputs": [
    {
     "data": {
      "image/png": "[encoded data removed]",
      "text/plain": [
       "<Figure size 432x288 with 6 Axes>"
      ]
     },
     "metadata": {
      "needs_background": "light"
     },
     "output_type": "display_data"
    }
   ],
   "source": [
    "for i in range(6):\n",
    "    plt.subplot(2,3,i+1)\n",
    "    plt.imshow(x_train[i], cmap='gray')\n",
    "plt.show()"
   ]
  },
  {
   "cell_type": "code",
   "execution_count": 32,
   "metadata": {},
   "outputs": [
    {
     "name": "stdout",
     "output_type": "stream",
     "text": [
      "Model: \"sequential_9\"\n",
      "_________________________________________________________________\n",
      "Layer (type)                 Output Shape              Param #   \n",
      "=================================================================\n",
      "flatten_9 (Flatten)          (None, 784)               0         \n",
      "_________________________________________________________________\n",
      "dense_16 (Dense)             (None, 128)               100480    \n",
      "_________________________________________________________________\n",
      "dense_17 (Dense)             (None, 10)                1290      \n",
      "=================================================================\n",
      "Total params: 101,770\n",
      "Trainable params: 101,770\n",
      "Non-trainable params: 0\n",
      "_________________________________________________________________\n"
     ]
    }
   ],
   "source": [
    "#model\n",
    "model = keras.models.Sequential([\n",
    "    keras.layers.Flatten(input_shape=(28,28)),\n",
    "    keras.layers.Dense(128, activation='relu'),\n",
    "    keras.layers.Dense(10),\n",
    "        \n",
    "])\n",
    "model.summary()"
   ]
  },
  {
   "cell_type": "code",
   "execution_count": 34,
   "metadata": {},
   "outputs": [],
   "source": [
    "# #seceond method\n",
    "# model=keras.Sequential() \n",
    "# model.add(keras.layers.Flatten(input_shape=(28,28)))\n",
    "# model.summary()\n",
    "# model.add(keras.layers.Dense(128, activation='relu'))\n",
    "# model.summary()\n",
    "# model.add(keras.layers.Dense(10))\n",
    "# model.summary()\n"
   ]
  },
  {
   "cell_type": "code",
   "execution_count": 36,
   "metadata": {},
   "outputs": [],
   "source": [
    "#loss and optimizer\n",
    "loss=keras.losses.SparseCategoricalCrossentropy(from_logits=True)\n",
    "optimizer=keras.optimizers.Adam(lr=0.001)\n",
    "metrics=[\"accuracy\"]\n",
    "\n",
    "model.compile(loss=loss,optimizer=optimizer,metrics=metrics)\n",
    "\n"
   ]
  },
  {
   "cell_type": "code",
   "execution_count": 41,
   "metadata": {},
   "outputs": [
    {
     "name": "stdout",
     "output_type": "stream",
     "text": [
      "Epoch 1/5\n",
      "938/938 - 4s - loss: 0.0182 - accuracy: 0.9949\n",
      "Epoch 2/5\n",
      "938/938 - 4s - loss: 0.0140 - accuracy: 0.9964\n",
      "Epoch 3/5\n",
      "938/938 - 3s - loss: 0.0135 - accuracy: 0.9964\n",
      "Epoch 4/5\n",
      "938/938 - 3s - loss: 0.0104 - accuracy: 0.9973\n",
      "Epoch 5/5\n",
      "938/938 - 3s - loss: 0.0087 - accuracy: 0.9977\n"
     ]
    },
    {
     "data": {
      "text/plain": [
       "<tensorflow.python.keras.callbacks.History at 0x1b504763520>"
      ]
     },
     "execution_count": 41,
     "metadata": {},
     "output_type": "execute_result"
    }
   ],
   "source": [
    "#training\n",
    "batch_size=64\n",
    "epochs=5\n",
    "\n",
    "model.fit(x_train,y_train, batch_size=batch_size, epochs=epochs, shuffle=True, verbose=2)"
   ]
  },
  {
   "cell_type": "code",
   "execution_count": 42,
   "metadata": {},
   "outputs": [
    {
     "name": "stdout",
     "output_type": "stream",
     "text": [
      "157/157 - 0s - loss: 0.0845 - accuracy: 0.9790\n"
     ]
    },
    {
     "data": {
      "text/plain": [
       "[0.08452925086021423, 0.9789999723434448]"
      ]
     },
     "execution_count": 42,
     "metadata": {},
     "output_type": "execute_result"
    }
   ],
   "source": [
    "#evaluate\n",
    "model.evaluate(x_test,y_test, batch_size=batch_size, verbose=2)"
   ]
  },
  {
   "cell_type": "code",
   "execution_count": 45,
   "metadata": {},
   "outputs": [],
   "source": [
    "#prediction\n",
    "probability_model=keras.models.Sequential([\n",
    "    model,\n",
    "    keras.layers.Softmax()\n",
    "])\n"
   ]
  },
  {
   "cell_type": "code",
   "execution_count": 59,
   "metadata": {},
   "outputs": [
    {
     "name": "stdout",
     "output_type": "stream",
     "text": [
      "tf.Tensor(\n",
      "[[9.1177572e-11 1.8251902e-11 2.0722817e-08 2.3108851e-06 1.5453159e-14\n",
      "  4.4674373e-10 4.6968099e-16 9.9999762e-01 2.6151765e-08 1.3490666e-08]\n",
      " [2.9283439e-13 6.0155130e-06 9.9999404e-01 5.8929737e-09 3.7638157e-23\n",
      "  1.7441772e-09 9.4960442e-11 6.6355238e-17 1.3525830e-09 5.5614304e-17]\n",
      " [1.0429726e-08 9.9992287e-01 2.8632082e-06 1.6660627e-07 8.8849083e-07\n",
      "  8.2958822e-09 2.5476591e-06 4.3911779e-05 2.6908732e-05 1.4069494e-08]\n",
      " [9.9999964e-01 2.7740110e-14 6.0962734e-08 3.3866954e-10 6.3304930e-12\n",
      "  1.6001034e-10 3.6033484e-08 3.2634825e-10 3.4471837e-12 1.9127013e-07]\n",
      " [9.0486046e-10 1.4579186e-12 8.6143723e-09 4.7122735e-12 9.9775749e-01\n",
      "  3.6972000e-10 1.0883746e-09 3.2098440e-06 6.6240791e-10 2.2392869e-03]\n",
      " [2.8660274e-11 9.9997687e-01 1.6213446e-10 2.3325695e-09 7.7722930e-08\n",
      "  2.3087968e-12 2.4549174e-09 2.2632485e-05 3.2849584e-07 4.6285345e-10]], shape=(6, 10), dtype=float32)\n",
      "[7 2 1 0 4 1]\n"
     ]
    }
   ],
   "source": [
    "#predictions\n",
    "predictions=probability_model(x_test)\n",
    "pred0=predictions[0:6]\n",
    "print(pred0)\n",
    "label0=np.argmax(pred0,axis=1)\n",
    "print(label0)"
   ]
  },
  {
   "cell_type": "code",
   "execution_count": 61,
   "metadata": {},
   "outputs": [
    {
     "data": {
      "image/png": "[encoded data removed]",
      "text/plain": [
       "<Figure size 432x288 with 6 Axes>"
      ]
     },
     "metadata": {
      "needs_background": "light"
     },
     "output_type": "display_data"
    }
   ],
   "source": [
    "for i in range(6):\n",
    "    plt.subplot(2,3,i+1)\n",
    "    plt.imshow(x_test[i], cmap='gray')\n",
    "plt.show()"
   ]
  }
 ],
 "metadata": {
  "kernelspec": {
   "display_name": "Python 3",
   "language": "python",
   "name": "python3"
  },
  "language_info": {
   "codemirror_mode": {
    "name": "ipython",
    "version": 3
   },
   "file_extension": ".py",
   "mimetype": "text/x-python",
   "name": "python",
   "nbconvert_exporter": "python",
   "pygments_lexer": "ipython3",
   "version": "3.8.6"
  }
 },
 "nbformat": 4,
 "nbformat_minor": 4
}
